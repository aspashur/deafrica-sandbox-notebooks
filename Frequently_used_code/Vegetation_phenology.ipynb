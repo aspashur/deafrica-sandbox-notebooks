{
 "cells": [
  {
   "cell_type": "markdown",
   "metadata": {},
   "source": [
    "# Vegetation Phenology <img align=\"right\" src=\"../Supplementary_data/DE_Africa_Logo_Stacked_RGB_small.jpg\">\n",
    "\n",
    "* **Products used:** \n",
    "[s2_l2a](https://explorer.digitalearth.africa/s2_l2a)\n"
   ]
  },
  {
   "cell_type": "markdown",
   "metadata": {},
   "source": [
    "## Background\n",
    "Phenology is the study of plant and animal life cycles in the context of the seasons.\n",
    "It can be useful in understanding the life cycle trends of crops and how the growing seasons are affected by changes in climate.\n",
    "For more information, see the [USGS page on deriving phenology from NDVI time-series](https://www.usgs.gov/land-resources/eros/phenology/science/deriving-phenological-metrics-ndvi?qt-science_center_objects=0#qt-science_center_objects)"
   ]
  },
  {
   "cell_type": "markdown",
   "metadata": {},
   "source": [
    "## Description\n",
    "\n",
    "This notebook demonstrates how to calculate vegetation phenology statistics using the DE Africa function [xr_phenology](../Scripts/deafrica_temporal_statistics.py).  To detect changes in plant life for Sentinel-2, the script uses either the **Normalized Difference Vegetation Index (NDVI)** or the **Enhanced Vegetation Index (EVI)**, which are common proxies for vegetation growth and health.\n",
    "\n",
    "The outputs of this notebook can be used to assess differences in agriculture fields over time or space and also allow the assessment of growing states such as planting and harvesting.\n",
    "This notebook demonstrates the following steps:\n",
    "\n",
    "1. Load cloud-masked Sentinel 2 data for an area of interest.\n",
    "2. Calculate the vegetation proxy index (NDVI or EVI).\n",
    "3. Generate a zonal time series of vegetation health\n",
    "4. Complete and smooth the vegetation timeseries to remove gaps and noise.\n",
    "5. Calculate phenology statistics on a simple 1D vegetation time series\n",
    "6. Calculate per-pixel phenology statistics\n",
    "\n",
    "***"
   ]
  },
  {
   "cell_type": "markdown",
   "metadata": {},
   "source": [
    "## Getting started\n",
    "\n",
    "To run this analysis, run all the cells in the notebook, starting with the \"Load packages\" cell. "
   ]
  },
  {
   "cell_type": "markdown",
   "metadata": {},
   "source": [
    "### Load packages\n",
    "Load key Python packages and supporting functions for the analysis."
   ]
  },
  {
   "cell_type": "code",
   "execution_count": 1,
   "metadata": {},
   "outputs": [
    {
     "name": "stderr",
     "output_type": "stream",
     "text": [
      "/env/lib/python3.6/site-packages/datacube/storage/masking.py:4: DeprecationWarning: datacube.storage.masking has moved to datacube.utils.masking\n",
      "  category=DeprecationWarning)\n"
     ]
    },
    {
     "ename": "ModuleNotFoundError",
     "evalue": "No module named 'setuptools.version.pkg_resources'; 'setuptools.version' is not a package",
     "output_type": "error",
     "traceback": [
      "\u001b[0;31m---------------------------------------------------------------------------\u001b[0m",
      "\u001b[0;31mModuleNotFoundError\u001b[0m                       Traceback (most recent call last)",
      "\u001b[0;32m<ipython-input-1-f2d90cd63d59>\u001b[0m in \u001b[0;36m<module>\u001b[0;34m\u001b[0m\n\u001b[1;32m     16\u001b[0m \u001b[0;32mfrom\u001b[0m \u001b[0mdeafrica_classificationtools\u001b[0m \u001b[0;32mimport\u001b[0m \u001b[0mHiddenPrints\u001b[0m\u001b[0;34m\u001b[0m\u001b[0;34m\u001b[0m\u001b[0m\n\u001b[1;32m     17\u001b[0m \u001b[0;32mfrom\u001b[0m \u001b[0mdeafrica_dask\u001b[0m \u001b[0;32mimport\u001b[0m \u001b[0mcreate_local_dask_cluster\u001b[0m\u001b[0;34m\u001b[0m\u001b[0;34m\u001b[0m\u001b[0m\n\u001b[0;32m---> 18\u001b[0;31m \u001b[0;32mimport\u001b[0m \u001b[0mdeafrica_temporal_statistics\u001b[0m \u001b[0;32mas\u001b[0m \u001b[0mts\u001b[0m\u001b[0;34m\u001b[0m\u001b[0;34m\u001b[0m\u001b[0m\n\u001b[0m",
      "\u001b[0;32m~/dev/deafrica-sandbox-notebooks/Scripts/deafrica_temporal_statistics.py\u001b[0m in \u001b[0;36m<module>\u001b[0;34m\u001b[0m\n\u001b[1;32m     36\u001b[0m \u001b[0;32mimport\u001b[0m \u001b[0mhdstats\u001b[0m\u001b[0;34m\u001b[0m\u001b[0;34m\u001b[0m\u001b[0m\n\u001b[1;32m     37\u001b[0m \u001b[0;32mfrom\u001b[0m \u001b[0mscipy\u001b[0m\u001b[0;34m.\u001b[0m\u001b[0msignal\u001b[0m \u001b[0;32mimport\u001b[0m \u001b[0mwiener\u001b[0m\u001b[0;34m\u001b[0m\u001b[0;34m\u001b[0m\u001b[0m\n\u001b[0;32m---> 38\u001b[0;31m \u001b[0;32mfrom\u001b[0m \u001b[0msetuptools\u001b[0m\u001b[0;34m.\u001b[0m\u001b[0mversion\u001b[0m\u001b[0;34m.\u001b[0m\u001b[0mpkg_resources\u001b[0m \u001b[0;32mimport\u001b[0m \u001b[0mparse_version\u001b[0m\u001b[0;34m\u001b[0m\u001b[0;34m\u001b[0m\u001b[0m\n\u001b[0m\u001b[1;32m     39\u001b[0m \u001b[0;32mfrom\u001b[0m \u001b[0mdatacube\u001b[0m\u001b[0;34m.\u001b[0m\u001b[0mutils\u001b[0m\u001b[0;34m.\u001b[0m\u001b[0mgeometry\u001b[0m \u001b[0;32mimport\u001b[0m \u001b[0massign_crs\u001b[0m\u001b[0;34m\u001b[0m\u001b[0;34m\u001b[0m\u001b[0m\n\u001b[1;32m     40\u001b[0m \u001b[0;34m\u001b[0m\u001b[0m\n",
      "\u001b[0;31mModuleNotFoundError\u001b[0m: No module named 'setuptools.version.pkg_resources'; 'setuptools.version' is not a package"
     ]
    }
   ],
   "source": [
    "%matplotlib inline\n",
    "\n",
    "import datacube\n",
    "import matplotlib.pyplot as plt\n",
    "import numpy as np\n",
    "import pandas as pd\n",
    "import sys\n",
    "import xarray as xr\n",
    "import datetime as dt\n",
    "import os\n",
    "\n",
    "sys.path.append('../Scripts')\n",
    "from deafrica_datahandling import load_ard\n",
    "from deafrica_bandindices import calculate_indices\n",
    "from deafrica_plotting import display_map, rgb\n",
    "from deafrica_classificationtools import HiddenPrints\n",
    "from deafrica_dask import create_local_dask_cluster\n",
    "import deafrica_temporal_statistics as ts"
   ]
  },
  {
   "cell_type": "markdown",
   "metadata": {},
   "source": [
    "### Set up a dask cluster\n",
    "\n",
    "This will help keep our memory use down and conduct the analysis in parallel. If you'd like to view the `dask dashboard`, click on the hyperlink that prints below the cell. You can use the dashboard to monitor the progress of calculations.\n"
   ]
  },
  {
   "cell_type": "code",
   "execution_count": null,
   "metadata": {},
   "outputs": [],
   "source": [
    "create_local_dask_cluster()"
   ]
  },
  {
   "cell_type": "markdown",
   "metadata": {},
   "source": [
    "### Connect to the datacube\n",
    "\n",
    "Connect to the datacube so we can access DE Africa data.\n",
    "The `app` parameter is a unique name for the analysis which is based on the notebook file name."
   ]
  },
  {
   "cell_type": "code",
   "execution_count": null,
   "metadata": {},
   "outputs": [],
   "source": [
    "dc = datacube.Datacube(app='Vegetation_phenology')"
   ]
  },
  {
   "cell_type": "markdown",
   "metadata": {},
   "source": [
    "### Analysis parameters\n",
    "\n",
    "The following cell sets important parameters for the analysis:\n",
    "\n",
    "* `veg_proxy`: Band index to use as a proxy for vegetation health e.g. `NDVI` or `EVI`\n",
    "* `lat`: The central latitude to analyse (e.g. `-10.6996`).\n",
    "* `lon`: The central longitude to analyse (e.g. `35.2708`).\n",
    "* `buffer`: The number of square degrees to load around the central latitude and longitude.\n",
    "For reasonable loading times, set this as `0.1` or lower.\n",
    "* `time_range`: The year range to analyse (e.g. `('2019-01', '2019-06')`).\n",
    "\n"
   ]
  },
  {
   "cell_type": "code",
   "execution_count": null,
   "metadata": {},
   "outputs": [],
   "source": [
    "# Set the vegetation proxy to use\n",
    "veg_proxy = 'NDVI'\n",
    "\n",
    "# Define area of interest\n",
    "lat = 22.817\n",
    "lon = 28.518\n",
    "lon_buffer = 0.0175\n",
    "lat_buffer = 0.004\n",
    "\n",
    "# Set the range of dates for the analysis\n",
    "time_range = ('2018-01', '2018-05')"
   ]
  },
  {
   "cell_type": "code",
   "execution_count": null,
   "metadata": {},
   "outputs": [],
   "source": [
    "# Combine central lat,lon with buffer to get area of interest\n",
    "lat_range = (lat-lat_buffer, lat+lat_buffer)\n",
    "lon_range = (lon-lon_buffer, lon+lon_buffer)"
   ]
  },
  {
   "cell_type": "markdown",
   "metadata": {},
   "source": [
    "## View the selected location\n",
    "The next cell will display the selected area on an interactive map.\n",
    "Feel free to zoom in and out to get a better understanding of the area you'll be analysing.\n",
    "Clicking on any point of the map will reveal the latitude and longitude coordinates of that point."
   ]
  },
  {
   "cell_type": "code",
   "execution_count": null,
   "metadata": {},
   "outputs": [],
   "source": [
    "display_map(x=lon_range, y=lat_range)"
   ]
  },
  {
   "cell_type": "markdown",
   "metadata": {},
   "source": [
    "## Load cloud-masked Sentinel-2 data"
   ]
  },
  {
   "cell_type": "markdown",
   "metadata": {},
   "source": [
    "The first step is to load Sentinel-2 data for the specified area of interest and time range. \n",
    "The `load_ard` function is used here to load data that has been masked for cloud, shadow and quality filters, making it ready for analysis."
   ]
  },
  {
   "cell_type": "code",
   "execution_count": null,
   "metadata": {},
   "outputs": [],
   "source": [
    "# Create a reusable query\n",
    "query = {\n",
    "    'y': lat_range,\n",
    "    'x': lon_range,\n",
    "    'time': time_range,\n",
    "    'measurements': ['red', 'green', 'blue', 'nir'],\n",
    "    'resolution': (-10, 10),\n",
    "    'output_crs': 'epsg:6933'\n",
    "}\n",
    "\n",
    "# Load available data from Landsat 8\n",
    "ds = load_ard(\n",
    "    dc=dc,\n",
    "    products=['s2_l2a'],\n",
    "    dask_chunks={'x': 2000, 'y': 2000},\n",
    "    **query,\n",
    ")\n",
    "\n",
    "print(ds)"
   ]
  },
  {
   "cell_type": "markdown",
   "metadata": {},
   "source": [
    "**Once the load is complete**, we can plot some of the images as as a true-colour image using the `rgb` function.  "
   ]
  },
  {
   "cell_type": "code",
   "execution_count": null,
   "metadata": {},
   "outputs": [],
   "source": [
    "rgb(ds, index=[0,5,10], col_wrap=1, size=3)"
   ]
  },
  {
   "cell_type": "markdown",
   "metadata": {},
   "source": [
    "## Compute band indices"
   ]
  },
  {
   "cell_type": "markdown",
   "metadata": {},
   "source": [
    "This study measures the presence of vegetation through either the `normalised difference vegetation index (NDVI)` or the `enhanced vegetation index (EVI)`.\n",
    "The index that will be used is dictated by the `veg_proxy` parameter that was set in the \"Analysis parameters\" section.\n",
    "\n",
    "The normalised difference vegetation index (NDVI) requires the `red` and `nir` (near-infra red) bands. \n",
    "The formula is\n",
    "\n",
    "$$\n",
    "\\begin{aligned}\n",
    "\\text{NDVI} & = \\frac{(\\text{NIR} - \\text{Red})}{(\\text{NIR} + \\text{Red})} \\\\\n",
    "\\end{aligned}\n",
    "$$\n",
    "\n",
    "The Enhanced Vegetation Index requires the `red`, `nir` and `blue` bands.\n",
    "The formula is\n",
    "\n",
    "$$\n",
    "\\begin{aligned}\n",
    "\\text{EVI} & = \\frac{2.5 \\times (\\text{NIR} - \\text{Red})}{(\\text{NIR} + 6 \\times \\text{Red} - 7.5 \\times \\text{Blue} + 1)} \\\\\n",
    "\\end{aligned}\n",
    "$$\n",
    "\n",
    "\n",
    "Both indices are available through the [calculate_indices](../Frequently_used_code/Calculating_band_indices.ipynb) function, imported from [deafrica_bandindices.py](../Scripts/deafrica_bandindices.py).\n",
    "Here, we use `collection='s2'` since we're working with Sentinel-2 data."
   ]
  },
  {
   "cell_type": "code",
   "execution_count": null,
   "metadata": {},
   "outputs": [],
   "source": [
    "# Calculate the chosen vegetation proxy index and add it to the loaded data set\n",
    "ds = calculate_indices(ds, index=veg_proxy, collection='s2')\n",
    "\n",
    "# Restructure the data to work with interpolate etc\n",
    "ds = ds.chunk({'time': -1})\n",
    "\n",
    "# Save the NDVI to the dask cluster\n",
    "ds[veg_proxy] = ds[veg_proxy].persist()"
   ]
  },
  {
   "cell_type": "markdown",
   "metadata": {},
   "source": [
    "The vegetation proxy index should now appear as a data variable, along with the loaded measurements, in the `ds` object."
   ]
  },
  {
   "cell_type": "markdown",
   "metadata": {},
   "source": [
    "## Plot the vegetation index over time\n",
    "\n",
    "To get an idea of how the vegetation health changes throughout the year(s), we can plot a zonal time series over the region of interest. First we will do a simple plot of the zonal mean of the data.  \n"
   ]
  },
  {
   "cell_type": "code",
   "execution_count": null,
   "metadata": {},
   "outputs": [],
   "source": [
    "ds.NDVI.mean(['x', 'y']).plot.line('b-^', figsize=(11,4))\n",
    "plt.title('Zonal mean of vegetation timeseries');"
   ]
  },
  {
   "cell_type": "markdown",
   "metadata": {},
   "source": [
    "## Interpolate vegetation time-series\n",
    "\n",
    "Due to the infrequency of satellite passes or the presence of cloud obscuring the ground, our data may have gaps. `Xarray` has inbuilt methods such as `.interpolate_na()` to complete a time-series. While these functions are great for small datasets, they can become prohibitively slow at scale. DE Africa's custom function `fast_completion` will remove any `NaNs` (Not a Number) very quickly, even over relatively large datasets. \n",
    "\n",
    "We will test both methods below."
   ]
  },
  {
   "cell_type": "code",
   "execution_count": null,
   "metadata": {},
   "outputs": [],
   "source": [
    "#fill missing values using xarray's interpolate_na() method\n",
    "ds.NDVI.interpolate_na(dim='time', method='linear').mean(['x', 'y']).plot.line('b-^', figsize=(11,4))\n",
    "\n",
    "plt.title('Interpolated vegetation timeseries');"
   ]
  },
  {
   "cell_type": "markdown",
   "metadata": {},
   "source": [
    "Alternatively, lets complete the timeseries using the DE Africa function `deafrica_temporal_statistics.fast_complete()`"
   ]
  },
  {
   "cell_type": "code",
   "execution_count": null,
   "metadata": {},
   "outputs": [],
   "source": [
    "# complete timeseries using fast_completion\n",
    "ndvi = ts.fast_completion(ds.NDVI)\n",
    "\n",
    "# # plot the result\n",
    "ndvi.mean(['x','y']).plot.line('b-^', figsize=(11,4));"
   ]
  },
  {
   "cell_type": "markdown",
   "metadata": {},
   "source": [
    "## Smoothing vegetation time-series\n",
    "\n",
    "We may also wish to smooth a time series to remove noise. This can be accomplished in a number of ways, two of which we explore here.\n",
    "1. By calculating a `xarray.rolling mean()` over a specified window-size. \n",
    "2. By applying the `deafrica_temporal_statistcs.smooth()` function, which relies on the `scipy.signal.wiener` filter.\n",
    "\n",
    "Below we will demonstrate this by first calculating a `rolling mean` across every three time steps. The larger the window-size, the smoother the curve will be, but at the cost of more granular detail in the curve."
   ]
  },
  {
   "cell_type": "code",
   "execution_count": null,
   "metadata": {},
   "outputs": [],
   "source": [
    "#smooth the data\n",
    "ndvi_rolling = ndvi.mean(['x', 'y']).rolling(time=3, min_periods=1).mean()\n",
    "\n",
    "#plot the smoothed data\n",
    "ndvi_rolling.plot.line('b-^', figsize=(11, 4))\n",
    "plt.title('Rolling mean vegetation time-series');"
   ]
  },
  {
   "cell_type": "markdown",
   "metadata": {},
   "source": [
    " Alternatively, lets smooth the timeseries using `deafrica_temporal_statistcs.smooth()`"
   ]
  },
  {
   "cell_type": "code",
   "execution_count": null,
   "metadata": {},
   "outputs": [],
   "source": [
    "#smooth the data\n",
    "ndvi_smooth = ts.smooth(ndvi)\n",
    "\n",
    "#plot the smoothed data\n",
    "ndvi_smooth.mean(['x', 'y']).plot.line('b-^', figsize=(11,4))\n",
    "plt.title(\"Wiener smoothed vegetation time-series\");"
   ]
  },
  {
   "cell_type": "markdown",
   "metadata": {},
   "source": [
    "## Calculate phenology statistics using `xr_phenology`\n",
    "\n",
    "The DE Africa function `xr_phenology` can caluclate a number of land-surface phenology statistics that together describe the characteristics of a plant's lifecycle.  The function can calculate the following statistics on either a zonal timeseries (like the one above), or on a per-pixel basis:\n",
    "\n",
    "            SOS = DOY of start of season\n",
    "            POS = DOY of peak of season\n",
    "            EOS = DOY of end of season\n",
    "            vSOS = Value at start of season\n",
    "            vPOS = Value at peak of season\n",
    "            vEOS = Value at end of season\n",
    "            Trough = Minimum value of season\n",
    "            LOS = Length of season (DOY)\n",
    "            AOS = Amplitude of season (in value units)\n",
    "            ROG = Rate of greening\n",
    "            ROS = Rate of senescence\n",
    "\n",
    "where DOY = day-of-year (Jan 1st = 0, Dec 31st = 365).  By default the function will return all the statistics as an `xarray.Dataset`, to return only a subset of these statistics pass a list of the desired statistics to the function e.g. `stats=['SOS', 'EOS', 'ROG']`.\n",
    "\n",
    "The `xr_phenology` function also allows for interpolating and/or smoothing the time-series in the same way as we did above, the interpolating/smoothing will occur before the statistics are calculated. \n",
    "\n",
    "See the [deafrica_temporal_statistics](../Scripts/deafrica_temporal_statistics.py) script for more information on each of the parameters in `xr_phenology`.\n"
   ]
  },
  {
   "cell_type": "markdown",
   "metadata": {},
   "source": [
    "### Zonal phenology statistics\n",
    "\n",
    "To help us understand what these statistics refer too, lets first pass the simpler zonal (mean of all pixels in the image) time-series to the function and plot the results on the same curves as above."
   ]
  },
  {
   "cell_type": "code",
   "execution_count": null,
   "metadata": {},
   "outputs": [],
   "source": [
    "#calculate phenology on the zonal mean of the dataset\n",
    "with HiddenPrints():\n",
    "    zonal_phen = ts.xr_phenology(\n",
    "        ds.NDVI.mean(['x', 'y']),\n",
    "        stats=['SOS', 'POS', 'EOS', 'vSOS', 'vPOS', 'vEOS'],\n",
    "        method_sos=\"first\",\n",
    "        method_eos=\"last\",\n",
    "        complete=\"linear\",\n",
    "        smoothing=\"rolling_mean\").load()\n",
    "print(zonal_phen)"
   ]
  },
  {
   "cell_type": "markdown",
   "metadata": {},
   "source": [
    "Plot the results with our statistcs annotated on the plot"
   ]
  },
  {
   "cell_type": "code",
   "execution_count": null,
   "metadata": {},
   "outputs": [],
   "source": [
    "# Use DOY results to create a datetime object\n",
    "year = str(ds.time.dt.year.values[0]) + \" \"\n",
    "eos_dt = dt.datetime.strptime(year + str(zonal_phen.EOS.values), '%Y %j')\n",
    "sos_dt = dt.datetime.strptime(year + str(zonal_phen.SOS.values), '%Y %j')\n",
    "pos_dt = dt.datetime.strptime(year + str(zonal_phen.POS.values), '%Y %j')\n",
    "\n",
    "#create plot\n",
    "fig, ax = plt.subplots(figsize=(11, 4))\n",
    "ax.plot(ndvi_rolling.time, ndvi_rolling, 'b-^')\n",
    "\n",
    "#add start of season\n",
    "ax.plot(sos_dt, zonal_phen.vSOS, 'or')\n",
    "ax.annotate('SOS',\n",
    "            xy=(sos_dt, zonal_phen.vSOS.values),\n",
    "            xytext=(-15, 20),\n",
    "            textcoords='offset points',\n",
    "            arrowprops=dict(arrowstyle='-|>'))\n",
    "\n",
    "#add end of season\n",
    "ax.plot(eos_dt, zonal_phen.vEOS, 'or')\n",
    "ax.annotate('EOS',\n",
    "            xy=(eos_dt, zonal_phen.vEOS.values),\n",
    "            xytext=(0, 20),\n",
    "            textcoords='offset points',\n",
    "            arrowprops=dict(arrowstyle='-|>'))\n",
    "\n",
    "#add peak of season\n",
    "ax.plot(pos_dt, zonal_phen.vPOS, 'or')\n",
    "ax.annotate('POS',\n",
    "            xy=(pos_dt, zonal_phen.vPOS.values),\n",
    "            xytext=(-10, -25),\n",
    "            textcoords='offset points',\n",
    "            arrowprops=dict(arrowstyle='-|>'))\n",
    "\n",
    "plt.ylabel('NDVI')\n",
    "plt.title('Phenology statistics');"
   ]
  },
  {
   "cell_type": "markdown",
   "metadata": {},
   "source": [
    "### Per-pixel phenology statistics\n",
    "\n",
    "We can now calculate the statistics for every pixel in our time-series and plot the results. In the code below we have changed the `method_eos` and `method_sos` parameters to `'median'`, this will estimate the beginning and end of the growing seasons as the median value of the slopes on the each side of the curve. The code below also demonstrates using the `fast_complete` and `wiener` methods for gap-filling and smoothing."
   ]
  },
  {
   "cell_type": "code",
   "execution_count": null,
   "metadata": {},
   "outputs": [],
   "source": [
    "#calculate phenology stats on every pixel in dataset\n",
    "with HiddenPrints():\n",
    "    phen = ts.xr_phenology(\n",
    "        ds.NDVI,\n",
    "        method_sos='median',\n",
    "        method_eos='median',\n",
    "        complete='fast_complete',\n",
    "        smoothing='wiener'\n",
    "    ).load()\n",
    "\n",
    "print(phen)"
   ]
  },
  {
   "cell_type": "markdown",
   "metadata": {},
   "source": [
    "The phenology statistics have been calculated seperately for every pixel in the image.  Let's plot each of them to see the results. "
   ]
  },
  {
   "cell_type": "code",
   "execution_count": null,
   "metadata": {},
   "outputs": [],
   "source": [
    "# set up figure\n",
    "fig, ax = plt.subplots(nrows=5,\n",
    "                       ncols=2,\n",
    "                       figsize=(16, 13),\n",
    "                       sharex=True,\n",
    "                       sharey=True)\n",
    "\n",
    "# set colorbar size\n",
    "cbar_size = 0.7\n",
    "\n",
    "# set aspect ratios\n",
    "for a in fig.axes:\n",
    "    a.set_aspect('equal')\n",
    "\n",
    "# start of season\n",
    "phen.SOS.plot(ax=ax[0, 0],\n",
    "              cmap='magma_r',\n",
    "              vmax=300,\n",
    "              vmin=0,\n",
    "              cbar_kwargs=dict(shrink=cbar_size))\n",
    "ax[0, 0].set_title('Start of Season (DOY)')\n",
    "phen.vSOS.plot(ax=ax[0, 1],\n",
    "               cmap='YlGn',\n",
    "               vmax=0.8,\n",
    "               cbar_kwargs=dict(shrink=cbar_size))\n",
    "ax[0, 1].set_title('NDVI at SOS')\n",
    "\n",
    "# peak of season\n",
    "phen.POS.plot(ax=ax[1, 0],\n",
    "              cmap='magma_r',\n",
    "              vmax=300,\n",
    "              vmin=0,\n",
    "              cbar_kwargs=dict(shrink=cbar_size))\n",
    "ax[1, 0].set_title('Peak of Season (DOY)')\n",
    "phen.vPOS.plot(ax=ax[1, 1],\n",
    "               cmap='YlGn',\n",
    "               vmax=0.8,\n",
    "               cbar_kwargs=dict(shrink=cbar_size))\n",
    "ax[1, 1].set_title('NDVI at POS')\n",
    "\n",
    "# end of season\n",
    "phen.EOS.plot(ax=ax[2, 0],\n",
    "              cmap='magma_r',\n",
    "              vmax=300,\n",
    "              vmin=0,\n",
    "              cbar_kwargs=dict(shrink=cbar_size))\n",
    "ax[2, 0].set_title('End of Season (DOY)')\n",
    "phen.vEOS.plot(ax=ax[2, 1],\n",
    "               cmap='YlGn',\n",
    "               vmax=0.8,\n",
    "               cbar_kwargs=dict(shrink=cbar_size))\n",
    "ax[2, 1].set_title('NDVI at EOS')\n",
    "\n",
    "# Length of Season\n",
    "phen.LOS.plot(ax=ax[3, 0],\n",
    "              cmap='magma_r',\n",
    "              vmax=300,\n",
    "              vmin=0,\n",
    "              cbar_kwargs=dict(shrink=cbar_size))\n",
    "ax[3, 0].set_title('Length of Season (DOY)')\n",
    "\n",
    "# Amplitude\n",
    "phen.AOS.plot(ax=ax[3, 1],\n",
    "              cmap='YlGn',\n",
    "              vmax=0.8,\n",
    "              cbar_kwargs=dict(shrink=cbar_size))\n",
    "ax[3, 1].set_title('Amplitude of Season')\n",
    "\n",
    "# rate of growth\n",
    "phen.ROG.plot(ax=ax[4, 0],\n",
    "              cmap='coolwarm_r',\n",
    "              vmin=-0.02,\n",
    "              vmax=0.02,\n",
    "              cbar_kwargs=dict(shrink=cbar_size))\n",
    "ax[4, 0].set_title('Rate of Growth')\n",
    "\n",
    "# rate of Sensescence\n",
    "phen.ROS.plot(ax=ax[4, 1],\n",
    "              cmap='coolwarm_r',\n",
    "              vmin=-0.02,\n",
    "              vmax=0.02,\n",
    "              cbar_kwargs=dict(shrink=cbar_size))\n",
    "ax[4, 1].set_title('Rate of Senescence')\n",
    "\n",
    "plt.tight_layout();"
   ]
  },
  {
   "cell_type": "markdown",
   "metadata": {},
   "source": [
    "## Conclusions\n",
    "\n",
    "In the example above, we can see these four fields are following the same cropping schedule and are therefore likely the same species of crop. We can also see there are intra-field differences in the rates of growth, and in the NDVI values at different times of the season, which may be attributable to differences in soil quality, watering intensity, or other farming practices. \n",
    "\n",
    "Phenology statistics are a powerful way to summarise the seasonal cycle of a plant's life.  Per-pixel plots of phenology can help us understand the timing of vegetation growth and sensecence across large areas and across diverse plant species as every pixel is treated as an independent series of observations. This could be important, for example, if we wanted to assess how the growing seasons are shifting as the climate warms.  \n"
   ]
  },
  {
   "cell_type": "markdown",
   "metadata": {},
   "source": [
    "## Next steps\n",
    "\n",
    "When you're done, return to the \"Analysis parameters\" cell, modify some values (e.g. `time_range`,  or `lat`/`lon`) and rerun the analysis.\n",
    "\n",
    "For advanced users, `xr_phenology` could be used for generating phenology feature layers in a machine learning classifier (see [Machine Learning with ODC](../Real_world_examples/Machine_learning_with_ODC.ipynb) for example of running ML models with ODC data).  `xr_phenology` can be passed inside of the `custom_func` parameter in the `deafrica_classificationtools.collect_training_data()` function, allowing phenological statistics to be computed during the collection of training data. An example would look like this:\n",
    "\n",
    "    import sys\n",
    "    sys.path.append('../Scripts')\n",
    "    from deafrica_temporal_statistics import xr_phenology\n",
    "    from deafrica_classificationtools import collect_training_data\n",
    "\n",
    "    def phenology_stats(da):\n",
    "        stats = xr_phenology(da, complete='fast_complete')\n",
    "        return stats\n",
    "\n",
    "    training = collect_training_data(...,\n",
    "                                     custom_func=phenology_stats)"
   ]
  },
  {
   "cell_type": "markdown",
   "metadata": {},
   "source": [
    "***\n",
    "\n",
    "## Additional information\n",
    "\n",
    "**License:** The code in this notebook is licensed under the [Apache License, Version 2.0](https://www.apache.org/licenses/LICENSE-2.0). \n",
    "Digital Earth Africa data is licensed under the [Creative Commons by Attribution 4.0](https://creativecommons.org/licenses/by/4.0/) license.\n",
    "\n",
    "**Contact:** If you need assistance, please post a question on the [Open Data Cube Slack channel](http://slack.opendatacube.org/) or on the [GIS Stack Exchange](https://gis.stackexchange.com/questions/ask?tags=open-data-cube) using the `open-data-cube` tag (you can view previously asked questions [here](https://gis.stackexchange.com/questions/tagged/open-data-cube)).\n",
    "If you would like to report an issue with this notebook, you can file one on [Github](https://github.com/digitalearthafrica/deafrica-sandbox-notebooks).\n",
    "\n",
    "**Last modified:** July 2020\n",
    "\n",
    "**Compatible datacube version:** "
   ]
  },
  {
   "cell_type": "code",
   "execution_count": null,
   "metadata": {},
   "outputs": [],
   "source": [
    "print(datacube.__version__)"
   ]
  },
  {
   "cell_type": "markdown",
   "metadata": {},
   "source": [
    "## Tags\n",
    "Browse all available tags on the DE Africa User Guide's [Tags Index](https://) (placeholder as this does not exist yet)"
   ]
  },
  {
   "cell_type": "raw",
   "metadata": {
    "raw_mimetype": "text/restructuredtext"
   },
   "source": [
    "**Tags**:  :index:`Sentinel-2`, :index:`xr_phenology`, :index:`deafrica_plotting`, :index:`deafrica_bandindices`, :index:`from deafrica_datahandling`, :index:`load_ard`, :index:`calculate_indices`, :index:`display_map`, :index:`NDVI`, :index:`EVI`, :index:`time series`, :index:`phenology`, :index:`vegetation`, :index:`real world`"
   ]
  }
 ],
 "metadata": {
  "kernelspec": {
   "display_name": "Python 3",
   "language": "python",
   "name": "python3"
  },
  "language_info": {
   "codemirror_mode": {
    "name": "ipython",
    "version": 3
   },
   "file_extension": ".py",
   "mimetype": "text/x-python",
   "name": "python",
   "nbconvert_exporter": "python",
   "pygments_lexer": "ipython3",
   "version": "3.6.9"
  },
  "widgets": {
   "application/vnd.jupyter.widget-state+json": {
    "state": {
     "1d2ba241bfd2437dbdf5d4530c685d9a": {
      "model_module": "jupyter-leaflet",
      "model_module_version": "^0.11.1",
      "model_name": "LeafletAttributionControlModel",
      "state": {
       "_model_module_version": "^0.11.1",
       "_view_count": null,
       "_view_module_version": "^0.11.1",
       "options": [
        "position",
        "prefix"
       ],
       "position": "bottomright",
       "prefix": "Leaflet"
      }
     },
     "d867097fe154472198694ed8095e3b0c": {
      "model_module": "jupyter-leaflet",
      "model_module_version": "^0.11.1",
      "model_name": "LeafletZoomControlModel",
      "state": {
       "_model_module_version": "^0.11.1",
       "_view_count": null,
       "_view_module_version": "^0.11.1",
       "options": [
        "position",
        "zoom_in_text",
        "zoom_in_title",
        "zoom_out_text",
        "zoom_out_title"
       ]
      }
     }
    },
    "version_major": 2,
    "version_minor": 0
   }
  }
 },
 "nbformat": 4,
 "nbformat_minor": 4
}
